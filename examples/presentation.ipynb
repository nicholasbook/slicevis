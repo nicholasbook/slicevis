{
 "cells": [
  {
   "cell_type": "markdown",
   "metadata": {},
   "source": [
    "## Live Demo\n",
    "---"
   ]
  },
  {
   "cell_type": "markdown",
   "metadata": {},
   "source": [
    "1. Load 3D image."
   ]
  },
  {
   "cell_type": "code",
   "execution_count": 1,
   "metadata": {},
   "outputs": [
    {
     "name": "stdout",
     "output_type": "stream",
     "text": [
      "(290, 211, 429, 1)\n"
     ]
    }
   ],
   "source": [
    "import ctwidgets\n",
    "\n",
    "mouse = ctwidgets.load_image(\"CT140.gff\")\n",
    "print(mouse.data.shape) # dimensions"
   ]
  },
  {
   "cell_type": "markdown",
   "metadata": {},
   "source": [
    "2. Extract 3D image (one timepoint)."
   ]
  },
  {
   "cell_type": "code",
   "execution_count": null,
   "metadata": {},
   "outputs": [],
   "source": [
    "mouse_3d = mouse.get_timepoint(0)"
   ]
  },
  {
   "cell_type": "markdown",
   "metadata": {},
   "source": [
    "3. Launch interactive visualization widget."
   ]
  },
  {
   "cell_type": "code",
   "execution_count": null,
   "metadata": {},
   "outputs": [],
   "source": [
    "app = ctwidgets.SliceWidget(mouse_3d)"
   ]
  },
  {
   "cell_type": "markdown",
   "metadata": {},
   "source": [
    "4. Load manual segmentation."
   ]
  },
  {
   "cell_type": "code",
   "execution_count": null,
   "metadata": {},
   "outputs": [],
   "source": [
    "seg = ctwidgets.load_image(\"Organs.segff\")\n",
    "print(seg.data.info)\n",
    "print(seg.metadata)"
   ]
  },
  {
   "cell_type": "markdown",
   "metadata": {},
   "source": [
    "5. Visualize again, now in color."
   ]
  },
  {
   "cell_type": "code",
   "execution_count": null,
   "metadata": {},
   "outputs": [],
   "source": [
    "app2 = ctwidgets.SliceWidget(seg.get_timepoint(0), colored=True)\n",
    "\n",
    "# add class names to colorbar ticks\n",
    "class_dict = seg.get_class_names()\n",
    "names = list(class_dict.keys())\n",
    "indices = list(class_dict.values())\n",
    "app2.add_class_names(names, indices)"
   ]
  },
  {
   "cell_type": "markdown",
   "metadata": {},
   "source": [
    "- Pretrained deep learning model for 3D lung tumor segmentation: [nnU-Net](https://github.com/MIC-DKFZ/nnUNet)\n",
    "    - Published and well-documented.\n",
    "    - Winner of the 2018 [*Medical Segmentation Decathlon*](http://medicaldecathlon.com/) challenge (public datasets with exper labels).\n",
    "    \n",
    "    - Difficulties:\n",
    "        - Training a model on new data myself is not feasible.\n",
    "        - Inference is computationally intense.\n",
    "        - Linux only (!)\n",
    "        - No validation dataset for challenge (!).\n",
    "\n",
    "    - Strategy for `ctwidgets`:\n",
    "        - Segmentations are precomputed.\n",
    "        - New widget **SegmentationWidget** will offer visualization of dataset + segmentation (+ validation segmentation).\n",
    "        - If validation segmentation is present, Dice score can be computed."
   ]
  },
  {
   "cell_type": "code",
   "execution_count": null,
   "metadata": {},
   "outputs": [],
   "source": [
    "# Load nnU-Net results\n",
    "import os\n",
    "import numpy as np\n",
    "import ctwidgets\n",
    "\n",
    "# find non-empty segmentations\n",
    "results_dir = \"C:/nnUNet/OUTPUT/\"\n",
    "valid_list = []\n",
    "for file in os.listdir(results_dir):\n",
    "    if file.endswith(\".nii.gz\"):\n",
    "        result = ctwidgets.load_image(results_dir + file)\n",
    "        if np.max(result.data) > 0:\n",
    "            valid_list.append(file)            "
   ]
  },
  {
   "cell_type": "code",
   "execution_count": null,
   "metadata": {},
   "outputs": [],
   "source": [
    "seg = ctwidgets.load_image(results_dir + \"/\" + valid_list[0])\n",
    "underlay = ctwidgets.load_image(\"C:/nnUNet/nnUNet_raw_data_base/nnUNet_raw_data/Task006_Lung/imagesTs/lung_002_0000.nii.gz\")\n",
    "\n",
    "print(seg.data.shape)\n",
    "app3 = ctwidgets.SliceWidget(seg.get_timepoint(), colored=True)\n",
    "app3.add_class_names([\"Unclassified\", \"Tumor\"], [0, 1])"
   ]
  },
  {
   "cell_type": "code",
   "execution_count": null,
   "metadata": {},
   "outputs": [],
   "source": [
    "# In progress: drawing segmentation on top of underlay\n",
    "\n",
    "seg_coords = np.nonzero(seg.get_timepoint() == 1)\n",
    "z_const = np.nonzero(seg_coords[2] == 225) # for z=225 slice\n",
    "app3 = ctwidgets.SliceWidget(underlay.get_timepoint())\n",
    "app3.widget.add_scatter(x=seg_coords[0][z_const], y=seg_coords[1][z_const], opacity=0.5, mode=\"markers\", marker={\"symbol\": \"square\"});"
   ]
  }
 ],
 "metadata": {
  "kernelspec": {
   "display_name": "Python 3.10.2 64-bit",
   "language": "python",
   "name": "python3"
  },
  "language_info": {
   "codemirror_mode": {
    "name": "ipython",
    "version": 3
   },
   "file_extension": ".py",
   "mimetype": "text/x-python",
   "name": "python",
   "nbconvert_exporter": "python",
   "pygments_lexer": "ipython3",
   "version": "3.10.2"
  },
  "orig_nbformat": 4,
  "vscode": {
   "interpreter": {
    "hash": "43f221103f953d3e0d93840edd77be981e5a5e0e42edc048e3de5278c46a3390"
   }
  }
 },
 "nbformat": 4,
 "nbformat_minor": 2
}

{
 "cells": [
  {
   "cell_type": "markdown",
   "metadata": {},
   "source": [
    "## Live Demo\n",
    "---"
   ]
  },
  {
   "cell_type": "markdown",
   "metadata": {},
   "source": [
    "1. Load 3D image."
   ]
  },
  {
   "cell_type": "code",
   "execution_count": null,
   "metadata": {},
   "outputs": [],
   "source": [
    "import ctwidgets\n",
    "\n",
    "mouse = ctwidgets.load_image(\"CT280.gff\")\n",
    "print(mouse.data.shape) # dimensions"
   ]
  },
  {
   "cell_type": "markdown",
   "metadata": {},
   "source": [
    "2. Extract 3D image (one timepoint)."
   ]
  },
  {
   "cell_type": "code",
   "execution_count": null,
   "metadata": {},
   "outputs": [],
   "source": [
    "mouse_3d = mouse.get_timepoint(0)"
   ]
  },
  {
   "cell_type": "markdown",
   "metadata": {},
   "source": [
    "3. Launch interactive visualization widget."
   ]
  },
  {
   "cell_type": "code",
   "execution_count": null,
   "metadata": {},
   "outputs": [],
   "source": [
    "app = ctwidgets.SliceWidget(mouse_3d)"
   ]
  },
  {
   "cell_type": "markdown",
   "metadata": {},
   "source": [
    "4. Load manual segmentation."
   ]
  },
  {
   "cell_type": "code",
   "execution_count": null,
   "metadata": {},
   "outputs": [],
   "source": [
    "seg = ctwidgets.load_image(\"Organs.segff\")\n",
    "print(seg.data.info)\n",
    "print(seg.metadata)"
   ]
  },
  {
   "cell_type": "markdown",
   "metadata": {},
   "source": [
    "5. Visualize again, now in color."
   ]
  },
  {
   "cell_type": "code",
   "execution_count": null,
   "metadata": {},
   "outputs": [],
   "source": [
    "app2 = ctwidgets.SliceWidget(seg.get_timepoint(0), colored=True)\n",
    "\n",
    "# add class names to colorbar ticks\n",
    "class_dict = seg.get_class_names()\n",
    "names = list(class_dict.keys())\n",
    "indices = list(class_dict.values())\n",
    "app2.add_class_names(names, indices)"
   ]
  },
  {
   "cell_type": "markdown",
   "metadata": {},
   "source": [
    "- Pretrained deep learning model for 3D lung tumor segmentation: [nnU-Net](https://github.com/MIC-DKFZ/nnUNet)\n",
    "    - Published and well-documented.\n",
    "    - Winner of the 2018 [*Medical Segmentation Decathlon*](http://medicaldecathlon.com/) challenge (public datasets with exper labels).\n",
    "    \n",
    "    - Difficulties:\n",
    "        - Training a model on new data myself is not feasible.\n",
    "        - Inference is computationally intense.\n",
    "        - Linux only (!)\n",
    "        - No validation dataset for challenge (!).\n",
    "\n",
    "    - Strategy for `ctwidgets`:\n",
    "        - Segmentations are precomputed.\n",
    "        - New widget **SegmentationWidget** will offer visualization of dataset + segmentation (+ validation segmentation).\n",
    "        - If validation segmentation is present, Dice score can be computed."
   ]
  }
 ],
 "metadata": {
  "kernelspec": {
   "display_name": "Python 3.10.2 64-bit",
   "language": "python",
   "name": "python3"
  },
  "language_info": {
   "codemirror_mode": {
    "name": "ipython",
    "version": 3
   },
   "file_extension": ".py",
   "mimetype": "text/x-python",
   "name": "python",
   "nbconvert_exporter": "python",
   "pygments_lexer": "ipython3",
   "version": "3.10.2"
  },
  "orig_nbformat": 4,
  "vscode": {
   "interpreter": {
    "hash": "43f221103f953d3e0d93840edd77be981e5a5e0e42edc048e3de5278c46a3390"
   }
  }
 },
 "nbformat": 4,
 "nbformat_minor": 2
}

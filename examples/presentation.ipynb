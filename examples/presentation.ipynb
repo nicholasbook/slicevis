{
 "cells": [
  {
   "cell_type": "markdown",
   "metadata": {},
   "source": [
    "## Individual discussion 06.07.2022\n",
    "---\n",
    "\n",
    "- Python package `ctwidgets` offers interactive visualization of 3-dimensional CT scans.\n",
    "- Many different file formats (.nii, .dicom, .gff, ...) are supported by wrapping around other libraries.\n",
    "- Classes: **Image** and **SliceWidget**\n",
    "- I have found a pretrained deep learning model for 3D lung tumor segmentation!\n",
    "    - Training a model myself is not feasible.\n",
    "    - *nnU-Net* is pusblished and well-documented.\n",
    "    - Winner of the 2018 *Medical Segmentation Decathlon* (public datasets with exper labels).\n",
    "    - Inference is computationally very costly (even with a good laptop GPU).\n",
    "    - Linux only (!)\n",
    "- My strategy: 3D segmentations must be precomputed using model of choice and stored as image file. Then, the original image, the prediction, and, if available, the validation can be loaded and compared. \n",
    "- Goal: reproducing the accuracy (Dice score) from the nnU-Net paper.\n"
   ]
  },
  {
   "cell_type": "markdown",
   "metadata": {},
   "source": [
    "# Demo"
   ]
  },
  {
   "cell_type": "markdown",
   "metadata": {},
   "source": [
    "Load 3D image."
   ]
  },
  {
   "cell_type": "code",
   "execution_count": null,
   "metadata": {},
   "outputs": [],
   "source": [
    "import ctwidgets\n",
    "\n",
    "mouse = ctwidgets.load_image(\"CT.gff\")\n",
    "print(mouse.data.shape)"
   ]
  },
  {
   "cell_type": "markdown",
   "metadata": {},
   "source": [
    "Extract 3D image (one timepoint)."
   ]
  },
  {
   "cell_type": "code",
   "execution_count": null,
   "metadata": {},
   "outputs": [],
   "source": [
    "mouse_3d = mouse.get_timepoint(0)"
   ]
  },
  {
   "cell_type": "markdown",
   "metadata": {},
   "source": [
    "Launch interactive visualization app."
   ]
  },
  {
   "cell_type": "code",
   "execution_count": null,
   "metadata": {},
   "outputs": [],
   "source": [
    "app = ctwidgets.SliceWidget(mouse_3d)"
   ]
  },
  {
   "cell_type": "markdown",
   "metadata": {},
   "source": [
    "Load manual segmentation."
   ]
  },
  {
   "cell_type": "code",
   "execution_count": null,
   "metadata": {},
   "outputs": [],
   "source": [
    "import ctwidgets\n",
    "\n",
    "seg = ctwidgets.load_image(\"Organs.segff\")\n",
    "print(seg.data.info)\n",
    "print(seg.metadata)"
   ]
  },
  {
   "cell_type": "code",
   "execution_count": null,
   "metadata": {},
   "outputs": [],
   "source": [
    "app2 = ctwidgets.SliceWidget(seg.get_timepoint(0), colored=True)\n",
    "\n",
    "# add class names to colorbar ticks\n",
    "class_dict = seg.get_class_names()\n",
    "names = list(class_dict.keys())\n",
    "indices = list(class_dict.values())\n",
    "app2.add_class_names(names, indices)"
   ]
  }
 ],
 "metadata": {
  "kernelspec": {
   "display_name": "Python 3.10.2 64-bit",
   "language": "python",
   "name": "python3"
  },
  "language_info": {
   "codemirror_mode": {
    "name": "ipython",
    "version": 3
   },
   "file_extension": ".py",
   "mimetype": "text/x-python",
   "name": "python",
   "nbconvert_exporter": "python",
   "pygments_lexer": "ipython3",
   "version": "3.10.2"
  },
  "orig_nbformat": 4,
  "vscode": {
   "interpreter": {
    "hash": "43f221103f953d3e0d93840edd77be981e5a5e0e42edc048e3de5278c46a3390"
   }
  }
 },
 "nbformat": 4,
 "nbformat_minor": 2
}

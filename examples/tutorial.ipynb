{
 "cells": [
  {
   "cell_type": "markdown",
   "metadata": {},
   "source": [
    "## Tutorial for ctwidgets package"
   ]
  },
  {
   "cell_type": "markdown",
   "metadata": {},
   "source": [
    "Load example dataset"
   ]
  },
  {
   "cell_type": "code",
   "execution_count": null,
   "metadata": {},
   "outputs": [],
   "source": [
    "import ctwidgets\n",
    "\n",
    "image = ctwidgets.load_image(\"cylinder.gff\")"
   ]
  },
  {
   "cell_type": "markdown",
   "metadata": {},
   "source": [
    "Look at the GFF metadata"
   ]
  },
  {
   "cell_type": "code",
   "execution_count": null,
   "metadata": {},
   "outputs": [],
   "source": [
    "# print(image.data)"
   ]
  },
  {
   "cell_type": "markdown",
   "metadata": {},
   "source": [
    "Static slice image"
   ]
  },
  {
   "cell_type": "code",
   "execution_count": null,
   "metadata": {},
   "outputs": [],
   "source": [
    "# ctwidgets.show_image(image.get_zslice(z=60))"
   ]
  },
  {
   "cell_type": "markdown",
   "metadata": {},
   "source": [
    "ctwidgets simply uses the 3D array indices as coordinates! These coordinates can be mapped to world coordinates using an affine transform (https://nipy.org/nibabel/coordinate_systems.html).\n",
    "The first axis (X, top-down) represents the rows, the second axis (Y, left-right) means the columns, and the third axis (Z) is the depth (front-back)"
   ]
  },
  {
   "cell_type": "markdown",
   "metadata": {},
   "source": [
    "Interactice slice image"
   ]
  },
  {
   "cell_type": "code",
   "execution_count": null,
   "metadata": {},
   "outputs": [],
   "source": [
    "# widget = ctwidgets.SliceWidget(image.get_timepoint())"
   ]
  },
  {
   "cell_type": "code",
   "execution_count": null,
   "metadata": {},
   "outputs": [],
   "source": [
    "# widget.widget.layout.xaxis.title.text = \"Z\""
   ]
  },
  {
   "cell_type": "markdown",
   "metadata": {},
   "source": [
    "More interesting example: ellipsoid"
   ]
  },
  {
   "cell_type": "code",
   "execution_count": null,
   "metadata": {},
   "outputs": [],
   "source": [
    "# ellipsoid = ctwidgets.load_image(\"ellipsoid.gff\")\n",
    "# ctwidgets.SliceWidget(ellipsoid.get_timepoint(0));"
   ]
  },
  {
   "cell_type": "code",
   "execution_count": null,
   "metadata": {},
   "outputs": [],
   "source": [
    "mouse = ctwidgets.load_image(\"CT.gff\")\n",
    "widget = ctwidgets.SliceWidget(mouse.get_timepoint())\n",
    "# widget.set_figure_size(1000, 800)"
   ]
  },
  {
   "cell_type": "code",
   "execution_count": null,
   "metadata": {},
   "outputs": [],
   "source": [
    "# from pydoc import describe\n",
    "# from ipywidgets import widgets, Layout\n",
    "# import plotly.express as px\n",
    "# import plotly.graph_objects as go\n",
    "# import numpy as np\n",
    "\n",
    "# b_axial = widgets.Button(description=\"Show axial\")\n",
    "# b_coronal = widgets.Button(description=\"Show coronal\")\n",
    "# b_sagittal = widgets.Button(description=\"Show sagittal\")\n",
    "# h_layout = widgets.HBox([b_axial, b_coronal, b_sagittal])\n",
    "\n",
    "# img = np.arange(15**2).reshape((15, 15))\n",
    "# fig = px.imshow(img)\n",
    "\n",
    "# g = go.FigureWidget(\n",
    "#     data=fig,\n",
    "# )\n",
    "# # fig.show()\n",
    "# app = widgets.VBox([h_layout, g])"
   ]
  },
  {
   "cell_type": "code",
   "execution_count": null,
   "metadata": {},
   "outputs": [],
   "source": [
    "# display(app)"
   ]
  }
 ],
 "metadata": {
  "kernelspec": {
   "display_name": "Python 3.10.2 64-bit",
   "language": "python",
   "name": "python3"
  },
  "language_info": {
   "codemirror_mode": {
    "name": "ipython",
    "version": 3
   },
   "file_extension": ".py",
   "mimetype": "text/x-python",
   "name": "python",
   "nbconvert_exporter": "python",
   "pygments_lexer": "ipython3",
   "version": "3.10.2"
  },
  "orig_nbformat": 4,
  "vscode": {
   "interpreter": {
    "hash": "43f221103f953d3e0d93840edd77be981e5a5e0e42edc048e3de5278c46a3390"
   }
  }
 },
 "nbformat": 4,
 "nbformat_minor": 2
}

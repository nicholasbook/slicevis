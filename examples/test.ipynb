{
 "cells": [
  {
   "cell_type": "markdown",
   "metadata": {},
   "source": [
    "## Tutorial for ctwidgets package"
   ]
  },
  {
   "cell_type": "code",
   "execution_count": 1,
   "metadata": {},
   "outputs": [
    {
     "ename": "ImportError",
     "evalue": "Plotly express requires pandas to be installed.",
     "output_type": "error",
     "traceback": [
      "\u001b[1;31m---------------------------------------------------------------------------\u001b[0m",
      "\u001b[1;31mImportError\u001b[0m                               Traceback (most recent call last)",
      "\u001b[1;32mc:\\Users\\nicho\\OneDrive\\Documents\\SCE_SS22\\Project\\test\\sce-project-ss22\\examples\\test.ipynb Zelle 2\u001b[0m in \u001b[0;36m<cell line: 1>\u001b[1;34m()\u001b[0m\n\u001b[1;32m----> <a href='vscode-notebook-cell:/c%3A/Users/nicho/OneDrive/Documents/SCE_SS22/Project/test/sce-project-ss22/examples/test.ipynb#ch0000001?line=0'>1</a>\u001b[0m \u001b[39mimport\u001b[39;00m \u001b[39mslicevis\u001b[39;00m\n\u001b[0;32m      <a href='vscode-notebook-cell:/c%3A/Users/nicho/OneDrive/Documents/SCE_SS22/Project/test/sce-project-ss22/examples/test.ipynb#ch0000001?line=2'>3</a>\u001b[0m data \u001b[39m=\u001b[39m slicevis\u001b[39m.\u001b[39mload_image(\u001b[39m\"\u001b[39m\u001b[39mCT280.gff\u001b[39m\u001b[39m\"\u001b[39m)\n\u001b[0;32m      <a href='vscode-notebook-cell:/c%3A/Users/nicho/OneDrive/Documents/SCE_SS22/Project/test/sce-project-ss22/examples/test.ipynb#ch0000001?line=3'>4</a>\u001b[0m widget \u001b[39m=\u001b[39m slicevis\u001b[39m.\u001b[39mSliceWidget(data\u001b[39m.\u001b[39mget_timepoint(), debug\u001b[39m=\u001b[39m\u001b[39mFalse\u001b[39;00m)\n",
      "File \u001b[1;32mc:\\users\\nicho\\onedrive\\documents\\sce_ss22\\project\\test\\sce-project-ss22\\slicevis\\__init__.py:5\u001b[0m, in \u001b[0;36m<module>\u001b[1;34m\u001b[0m\n\u001b[0;32m      3\u001b[0m \u001b[39mfrom\u001b[39;00m \u001b[39m.\u001b[39;00m\u001b[39mimage\u001b[39;00m \u001b[39mimport\u001b[39;00m Image\n\u001b[0;32m      4\u001b[0m \u001b[39mfrom\u001b[39;00m \u001b[39m.\u001b[39;00m\u001b[39mload\u001b[39;00m \u001b[39mimport\u001b[39;00m load_image\n\u001b[1;32m----> 5\u001b[0m \u001b[39mfrom\u001b[39;00m \u001b[39m.\u001b[39;00m\u001b[39mwidget\u001b[39;00m \u001b[39mimport\u001b[39;00m SliceWidget\n\u001b[0;32m      6\u001b[0m \u001b[39mfrom\u001b[39;00m \u001b[39m.\u001b[39;00m\u001b[39mutilities\u001b[39;00m \u001b[39mimport\u001b[39;00m throttle\n",
      "File \u001b[1;32mc:\\users\\nicho\\onedrive\\documents\\sce_ss22\\project\\test\\sce-project-ss22\\slicevis\\widget.py:2\u001b[0m, in \u001b[0;36m<module>\u001b[1;34m\u001b[0m\n\u001b[0;32m      1\u001b[0m \u001b[39mimport\u001b[39;00m \u001b[39mmatplotlib\u001b[39;00m\u001b[39m.\u001b[39;00m\u001b[39mpyplot\u001b[39;00m \u001b[39mas\u001b[39;00m \u001b[39mplt\u001b[39;00m\n\u001b[1;32m----> 2\u001b[0m \u001b[39mimport\u001b[39;00m \u001b[39mplotly\u001b[39;00m\u001b[39m.\u001b[39;00m\u001b[39mexpress\u001b[39;00m \u001b[39mas\u001b[39;00m \u001b[39mpx\u001b[39;00m\n\u001b[0;32m      3\u001b[0m \u001b[39mimport\u001b[39;00m \u001b[39mplotly\u001b[39;00m\u001b[39m.\u001b[39;00m\u001b[39mgraph_objects\u001b[39;00m \u001b[39mas\u001b[39;00m \u001b[39mgo\u001b[39;00m\n\u001b[0;32m      4\u001b[0m \u001b[39mfrom\u001b[39;00m \u001b[39mipywidgets\u001b[39;00m \u001b[39mimport\u001b[39;00m widgets\n",
      "File \u001b[1;32mc:\\Users\\nicho\\OneDrive\\Documents\\SCE_SS22\\Project\\test\\sce-project-ss22\\env\\lib\\site-packages\\plotly\\express\\__init__.py:10\u001b[0m, in \u001b[0;36m<module>\u001b[1;34m\u001b[0m\n\u001b[0;32m      8\u001b[0m pd \u001b[39m=\u001b[39m optional_imports\u001b[39m.\u001b[39mget_module(\u001b[39m\"\u001b[39m\u001b[39mpandas\u001b[39m\u001b[39m\"\u001b[39m)\n\u001b[0;32m      9\u001b[0m \u001b[39mif\u001b[39;00m pd \u001b[39mis\u001b[39;00m \u001b[39mNone\u001b[39;00m:\n\u001b[1;32m---> 10\u001b[0m     \u001b[39mraise\u001b[39;00m \u001b[39mImportError\u001b[39;00m(\n\u001b[0;32m     11\u001b[0m         \u001b[39m\"\"\"\\\u001b[39;00m\n\u001b[0;32m     12\u001b[0m \u001b[39mPlotly express requires pandas to be installed.\"\"\"\u001b[39;00m\n\u001b[0;32m     13\u001b[0m     )\n\u001b[0;32m     15\u001b[0m \u001b[39mfrom\u001b[39;00m \u001b[39m.\u001b[39;00m\u001b[39m_imshow\u001b[39;00m \u001b[39mimport\u001b[39;00m imshow\n\u001b[0;32m     16\u001b[0m \u001b[39mfrom\u001b[39;00m \u001b[39m.\u001b[39;00m\u001b[39m_chart_types\u001b[39;00m \u001b[39mimport\u001b[39;00m (  \u001b[39m# noqa: F401\u001b[39;00m\n\u001b[0;32m     17\u001b[0m     scatter,\n\u001b[0;32m     18\u001b[0m     scatter_3d,\n\u001b[1;32m   (...)\u001b[0m\n\u001b[0;32m     51\u001b[0m     density_mapbox,\n\u001b[0;32m     52\u001b[0m )\n",
      "\u001b[1;31mImportError\u001b[0m: Plotly express requires pandas to be installed."
     ]
    }
   ],
   "source": [
    "import slicevis\n",
    "\n",
    "data = slicevis.load_image(\"CT280.gff\")\n",
    "widget = slicevis.SliceWidget(data.get_timepoint(), debug=False)"
   ]
  }
 ],
 "metadata": {
  "kernelspec": {
   "display_name": "Python 3.9.0 ('env': venv)",
   "language": "python",
   "name": "python3"
  },
  "language_info": {
   "codemirror_mode": {
    "name": "ipython",
    "version": 3
   },
   "file_extension": ".py",
   "mimetype": "text/x-python",
   "name": "python",
   "nbconvert_exporter": "python",
   "pygments_lexer": "ipython3",
   "version": "3.9.0"
  },
  "orig_nbformat": 4,
  "vscode": {
   "interpreter": {
    "hash": "6a1718ada6afdc1c40cff6464678fc0d03923ce7af9269fb19b759a58537ec1a"
   }
  }
 },
 "nbformat": 4,
 "nbformat_minor": 2
}

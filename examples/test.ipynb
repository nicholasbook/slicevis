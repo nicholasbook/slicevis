{
 "cells": [
  {
   "cell_type": "markdown",
   "metadata": {},
   "source": [
    "## Testing notebook"
   ]
  },
  {
   "cell_type": "code",
   "execution_count": 2,
   "metadata": {},
   "outputs": [
    {
     "data": {
      "application/vnd.jupyter.widget-view+json": {
       "model_id": "b24ffb29bcab4271b2ae6ddea7d68088",
       "version_major": 2,
       "version_minor": 0
      },
      "text/plain": [
       "VBox(children=(HBox(children=(VBox(children=(Text(value='', layout=Layout(width='90%'), placeholder='Segmentat…"
      ]
     },
     "metadata": {},
     "output_type": "display_data"
    },
    {
     "ename": "KeyError",
     "evalue": "0",
     "output_type": "error",
     "traceback": [
      "\u001b[1;31m---------------------------------------------------------------------------\u001b[0m",
      "\u001b[1;31mKeyError\u001b[0m                                  Traceback (most recent call last)",
      "File \u001b[1;32mc:\\users\\nicho\\onedrive\\documents\\sce_ss22\\project\\sce-project-ss22\\slicevis\\widget.py:475\u001b[0m, in \u001b[0;36mSliceWidget._load_segmentation\u001b[1;34m(self, b, is_validation)\u001b[0m\n\u001b[0;32m    473\u001b[0m \u001b[39mif\u001b[39;00m \u001b[39mstr\u001b[39m(file):  \u001b[39m# not empty\u001b[39;00m\n\u001b[0;32m    474\u001b[0m     \u001b[39mtry\u001b[39;00m:\n\u001b[1;32m--> 475\u001b[0m         seg_image \u001b[39m=\u001b[39m load_image(file, is_segmentation\u001b[39m=\u001b[39;49m\u001b[39mTrue\u001b[39;49;00m)\n\u001b[0;32m    477\u001b[0m         \u001b[39mif\u001b[39;00m is_validation:\n\u001b[0;32m    478\u001b[0m             \u001b[39mself\u001b[39m\u001b[39m.\u001b[39mseg3D_validation \u001b[39m=\u001b[39m seg_image\u001b[39m.\u001b[39mget_timepoint(\u001b[39m0\u001b[39m)\n",
      "File \u001b[1;32mc:\\users\\nicho\\onedrive\\documents\\sce_ss22\\project\\sce-project-ss22\\slicevis\\load.py:19\u001b[0m, in \u001b[0;36mload_image\u001b[1;34m(filename, is_segmentation)\u001b[0m\n\u001b[0;32m     17\u001b[0m image \u001b[39m=\u001b[39m Image(gff[:, :, :, :, \u001b[39m0\u001b[39m])  \u001b[39m# ignore channels for now\u001b[39;00m\n\u001b[0;32m     18\u001b[0m \u001b[39mif\u001b[39;00m ext \u001b[39m==\u001b[39m \u001b[39m\"\u001b[39m\u001b[39m.segff\u001b[39m\u001b[39m\"\u001b[39m:  \u001b[39m# GFF segmentation file\u001b[39;00m\n\u001b[1;32m---> 19\u001b[0m     classes \u001b[39m=\u001b[39m gff\u001b[39m.\u001b[39;49minfo\u001b[39m.\u001b[39;49mmeta[\u001b[39m0\u001b[39;49m][\u001b[39m1\u001b[39m][\u001b[39m\"\u001b[39m\u001b[39mClassNames\u001b[39m\u001b[39m\"\u001b[39m]\u001b[39m.\u001b[39msplit(\u001b[39m\"\u001b[39m\u001b[39m|\u001b[39m\u001b[39m\"\u001b[39m)  \u001b[39m# very unsafe\u001b[39;00m\n\u001b[0;32m     20\u001b[0m     class_indices \u001b[39m=\u001b[39m gff\u001b[39m.\u001b[39minfo\u001b[39m.\u001b[39mmeta[\u001b[39m0\u001b[39m][\u001b[39m1\u001b[39m][\u001b[39m\"\u001b[39m\u001b[39mClassIndices\u001b[39m\u001b[39m\"\u001b[39m]\u001b[39m.\u001b[39msplit(\u001b[39m\"\u001b[39m\u001b[39m|\u001b[39m\u001b[39m\"\u001b[39m)\n\u001b[0;32m     21\u001b[0m     class_colors \u001b[39m=\u001b[39m gff\u001b[39m.\u001b[39minfo\u001b[39m.\u001b[39mmeta[\u001b[39m0\u001b[39m][\u001b[39m1\u001b[39m][\u001b[39m\"\u001b[39m\u001b[39mClassColors\u001b[39m\u001b[39m\"\u001b[39m]\u001b[39m.\u001b[39msplit(\u001b[39m\"\u001b[39m\u001b[39m|\u001b[39m\u001b[39m\"\u001b[39m)\n",
      "\u001b[1;31mKeyError\u001b[0m: 0"
     ]
    }
   ],
   "source": [
    "import slicevis\n",
    "\n",
    "data = slicevis.load_image(\"CT280.gff\")\n",
    "widget = slicevis.SliceWidget(data.get_timepoint(), debug=False)"
   ]
  }
 ],
 "metadata": {
  "kernelspec": {
   "display_name": "Python 3.10.2 64-bit",
   "language": "python",
   "name": "python3"
  },
  "language_info": {
   "codemirror_mode": {
    "name": "ipython",
    "version": 3
   },
   "file_extension": ".py",
   "mimetype": "text/x-python",
   "name": "python",
   "nbconvert_exporter": "python",
   "pygments_lexer": "ipython3",
   "version": "3.10.2"
  },
  "orig_nbformat": 4,
  "vscode": {
   "interpreter": {
    "hash": "43f221103f953d3e0d93840edd77be981e5a5e0e42edc048e3de5278c46a3390"
   }
  }
 },
 "nbformat": 4,
 "nbformat_minor": 2
}

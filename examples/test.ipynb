{
 "cells": [
  {
   "cell_type": "markdown",
   "metadata": {},
   "source": [
    "## Testing notebook"
   ]
  },
  {
   "cell_type": "code",
   "execution_count": 2,
   "metadata": {},
   "outputs": [
    {
     "data": {
      "application/vnd.jupyter.widget-view+json": {
       "model_id": "61747090d7cd4c0382a5c0296f92fc46",
       "version_major": 2,
       "version_minor": 0
      },
      "text/plain": [
       "VBox(children=(HBox(children=(VBox(children=(Text(value='', layout=Layout(width='90%'), placeholder='Segmentat…"
      ]
     },
     "metadata": {},
     "output_type": "display_data"
    },
    {
     "name": "stdout",
     "output_type": "stream",
     "text": [
      "Computing Dice scores...\n",
      "\n",
      "Dice score for class Heart: 1.0\n",
      "\n",
      "Dice score for class Bone: 0.3333333333333333\n",
      "\n",
      "Dice score for class Lung: 0.25\n",
      "\n",
      "Dice score for class Tumor: 0.1111111111111111\n",
      "\n",
      "Dice score for class Kidneys: 0.1\n",
      "\n",
      "Dice score for class Liver: 0.09090909090909091\n",
      "\n",
      "Computing Dice scores...\n",
      "\n",
      "Dice score for class Heart: 1.0\n",
      "\n",
      "Dice score for class Bone: 0.3333333333333333\n",
      "\n",
      "Dice score for class Lung: 0.25\n",
      "\n",
      "Dice score for class Tumor: 0.1111111111111111\n",
      "\n",
      "Dice score for class Kidneys: 0.1\n",
      "\n",
      "Dice score for class Liver: 0.09090909090909091\n",
      "\n"
     ]
    }
   ],
   "source": [
    "import slicevis\n",
    "\n",
    "data = slicevis.load_image(\"CT280.gff\")\n",
    "widget = slicevis.SliceWidget(data.get_timepoint(), debug=False)"
   ]
  }
 ],
 "metadata": {
  "kernelspec": {
   "display_name": "Python 3.10.2 64-bit",
   "language": "python",
   "name": "python3"
  },
  "language_info": {
   "codemirror_mode": {
    "name": "ipython",
    "version": 3
   },
   "file_extension": ".py",
   "mimetype": "text/x-python",
   "name": "python",
   "nbconvert_exporter": "python",
   "pygments_lexer": "ipython3",
   "version": "3.10.2"
  },
  "orig_nbformat": 4,
  "vscode": {
   "interpreter": {
    "hash": "43f221103f953d3e0d93840edd77be981e5a5e0e42edc048e3de5278c46a3390"
   }
  }
 },
 "nbformat": 4,
 "nbformat_minor": 2
}
